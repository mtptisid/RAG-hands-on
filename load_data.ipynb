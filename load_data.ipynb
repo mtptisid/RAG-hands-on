{
 "cells": [
  {
   "cell_type": "markdown",
   "id": "df3c4e8b",
   "metadata": {},
   "source": [
    "[![Open In Colab](https://colab.research.google.com/assets/colab-badge.svg)](https://github.com/mtptisid/RAG-hands-on/edit/master/load_data.ipynb)]"
   ]
  },
  {
   "cell_type": "code",
   "execution_count": 3,
   "id": "76a0f4e3",
   "metadata": {},
   "outputs": [],
   "source": [
    "!pip install sentence_transformers faiss-cpu -q"
   ]
  },
  {
   "cell_type": "code",
   "execution_count": 1,
   "id": "96a5dbbc",
   "metadata": {},
   "outputs": [
    {
     "data": {
      "text/plain": [
       "list"
      ]
     },
     "execution_count": 1,
     "metadata": {},
     "output_type": "execute_result"
    }
   ],
   "source": [
    "import glob\n",
    "file_paths = glob.glob(\"./data/*\")\n",
    "type(file_paths)"
   ]
  },
  {
   "cell_type": "code",
   "execution_count": 2,
   "id": "6a1188b8",
   "metadata": {},
   "outputs": [
    {
     "data": {
      "text/plain": [
       "['./data/The Picture of Dorian Gray',\n",
       " './data/Dracula',\n",
       " './data/Pride and Prejudice',\n",
       " './data/Alice’s Adventures in Wonderland',\n",
       " './data/The Adventures of Sherlock Holmes']"
      ]
     },
     "execution_count": 2,
     "metadata": {},
     "output_type": "execute_result"
    }
   ],
   "source": [
    "file_paths"
   ]
  },
  {
   "cell_type": "code",
   "execution_count": 4,
   "id": "9c7e4ca0",
   "metadata": {},
   "outputs": [],
   "source": [
    "documents = []\n",
    "for path in file_paths:\n",
    "    with open(path, \"r\") as file:\n",
    "        text = file.read()\n",
    "        chunks = text.split(\"\\n\\n\") \n",
    "        documents.extend(chunks)"
   ]
  },
  {
   "cell_type": "code",
   "execution_count": 5,
   "id": "66fa2acd",
   "metadata": {},
   "outputs": [
    {
     "data": {
      "text/plain": [
       "10083"
      ]
     },
     "execution_count": 5,
     "metadata": {},
     "output_type": "execute_result"
    }
   ],
   "source": [
    "len(documents)"
   ]
  },
  {
   "cell_type": "code",
   "execution_count": 6,
   "id": "bf0c7a18",
   "metadata": {},
   "outputs": [
    {
     "data": {
      "text/plain": [
       "'\\ufeffThe Project Gutenberg eBook of The Picture of Dorian Gray\\n    \\nThis ebook is for the use of anyone anywhere in the United States and\\nmost other parts of the world at no cost and with almost no restrictions\\nwhatsoever. You may copy it, give it away or re-use it under the terms\\nof the Project Gutenberg License included with this ebook or online\\nat www.gutenberg.org. If you are not located in the United States,\\nyou will have to check the laws of the country where you are located\\nbefore using this eBook.'"
      ]
     },
     "execution_count": 6,
     "metadata": {},
     "output_type": "execute_result"
    }
   ],
   "source": [
    "documents[0]"
   ]
  },
  {
   "cell_type": "code",
   "execution_count": 7,
   "id": "38fd8452",
   "metadata": {},
   "outputs": [],
   "source": [
    "cleaned_chunks = [chunk.strip() for chunk in documents if chunk.strip()]"
   ]
  },
  {
   "cell_type": "code",
   "execution_count": 8,
   "id": "8a44a0ac",
   "metadata": {},
   "outputs": [
    {
     "data": {
      "text/plain": [
       "9856"
      ]
     },
     "execution_count": 8,
     "metadata": {},
     "output_type": "execute_result"
    }
   ],
   "source": [
    "len(cleaned_chunks)"
   ]
  },
  {
   "cell_type": "code",
   "execution_count": 10,
   "id": "c66f9c1e",
   "metadata": {},
   "outputs": [
    {
     "name": "stderr",
     "output_type": "stream",
     "text": [
      "/workspaces/codespaces-blank/.venv/lib/python3.12/site-packages/tqdm/auto.py:21: TqdmWarning: IProgress not found. Please update jupyter and ipywidgets. See https://ipywidgets.readthedocs.io/en/stable/user_install.html\n",
      "  from .autonotebook import tqdm as notebook_tqdm\n"
     ]
    }
   ],
   "source": [
    "from sentence_transformers import SentenceTransformer\n",
    "model = SentenceTransformer('all-MiniLM-L6-v2')\n",
    "embeddings = model.encode(cleaned_chunks)"
   ]
  },
  {
   "cell_type": "code",
   "execution_count": 11,
   "id": "4c54e48e",
   "metadata": {},
   "outputs": [],
   "source": [
    "import faiss\n",
    "import numpy as np\n",
    "\n",
    "dimension = embeddings.shape[1]  # Size of each embedding vector\n",
    "index = faiss.IndexFlatL2(dimension)  # L2 distance index\n",
    "index.add(np.array(embeddings))"
   ]
  },
  {
   "cell_type": "code",
   "execution_count": 12,
   "id": "6fedd07e",
   "metadata": {},
   "outputs": [],
   "source": [
    "import pickle\n",
    "faiss.write_index(index, \"faiss_index.bin\")\n",
    "with open(\"chunks.pkl\", \"wb\") as f:\n",
    "    pickle.dump(cleaned_chunks, f)"
   ]
  },
  {
   "cell_type": "code",
   "execution_count": 13,
   "id": "d5c52586",
   "metadata": {},
   "outputs": [],
   "source": [
    "# Load the index and chunks\n",
    "index = faiss.read_index(\"faiss_index.bin\")\n",
    "with open(\"chunks.pkl\", \"rb\") as f:\n",
    "    cleaned_chunks = pickle.load(f)"
   ]
  },
  {
   "cell_type": "code",
   "execution_count": 15,
   "id": "38331518",
   "metadata": {},
   "outputs": [],
   "source": [
    "\n",
    "# Load the model\n",
    "model = SentenceTransformer('all-MiniLM-L6-v2')\n",
    "query = \"can it have remained so long undiscovered, when there is a sure index to it if men will but take the trouble to look?\"\n",
    "query_embedding = model.encode([query])"
   ]
  },
  {
   "cell_type": "code",
   "execution_count": 16,
   "id": "dab5a720",
   "metadata": {},
   "outputs": [],
   "source": [
    "k = 5  # Number of chunks to retrieve\n",
    "distances, indices = index.search(np.array(query_embedding), k)"
   ]
  },
  {
   "cell_type": "code",
   "execution_count": null,
   "id": "992cd527",
   "metadata": {},
   "outputs": [
    {
     "name": "stdout",
     "output_type": "stream",
     "text": [
      "“But how,” said I, “can it have remained so long undiscovered, when\n",
      "there is a sure index to it if men will but take the trouble to look?”\n",
      "The Count smiled, and as his lips ran back over his gums, the long,\n",
      "sharp, canine teeth showed out strangely; he answered:--\n",
      "“But if a woman is partial to a man, and does not endeavor to conceal\n",
      "it, he must find it out.”\n",
      "Later in the day I got together the whole crew, and told them, as they\n",
      "evidently thought there was some one in the ship, we would search from\n",
      "stem to stern. First mate angry; said it was folly, and to yield to such\n",
      "foolish ideas would demoralise the men; said he would engage to keep\n",
      "them out of trouble with a handspike. I let him take the helm, while the\n",
      "rest began thorough search, all keeping abreast, with lanterns: we left\n",
      "no corner unsearched. As there were only the big wooden boxes, there\n",
      "were no odd corners where a man could hide. Men much relieved when\n",
      "search over, and went back to work cheerfully. First mate scowled, but\n",
      "said nothing.\n",
      "“My dear fellow, I know you well. I know the military neatness which\n",
      "characterises you. You shave every morning, and in this season you\n",
      "shave by the sunlight; but since your shaving is less and less complete\n",
      "as we get farther back on the left side, until it becomes positively\n",
      "slovenly as we get round the angle of the jaw, it is surely very clear\n",
      "that that side is less illuminated than the other. I could not imagine\n",
      "a man of your habits looking at himself in an equal light and being\n",
      "satisfied with such a result. I only quote this as a trivial example of\n",
      "observation and inference. Therein lies my _métier_, and it is just\n",
      "possible that it may be of some service in the investigation which lies\n",
      "before us. There are one or two minor points which were brought out in\n",
      "the inquest, and which are worth considering.”\n",
      "“Perhaps, after all, America never has been discovered,” said Mr.\n",
      "Erskine; “I myself would say that it had merely been detected.”\n"
     ]
    }
   ],
   "source": [
    "# Retrieve the corresponding text chunks\n",
    "retrieved_chunks = [cleaned_chunks[i] for i in indices[0]]\n",
    "\n",
    "# Print or use the retrieved chunks (e.g., pass to a language model)\n",
    "for chunk in retrieved_chunks:\n",
    "    print(chunk)"
   ]
  },
  {
   "cell_type": "code",
   "execution_count": null,
   "id": "10ecdb81",
   "metadata": {},
   "outputs": [],
   "source": []
  }
 ],
 "metadata": {
  "kernelspec": {
   "display_name": ".venv",
   "language": "python",
   "name": "python3"
  },
  "language_info": {
   "codemirror_mode": {
    "name": "ipython",
    "version": 3
   },
   "file_extension": ".py",
   "mimetype": "text/x-python",
   "name": "python",
   "nbconvert_exporter": "python",
   "pygments_lexer": "ipython3",
   "version": "3.12.1"
  }
 },
 "nbformat": 4,
 "nbformat_minor": 5
}
